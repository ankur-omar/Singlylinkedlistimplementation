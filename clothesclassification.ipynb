{
  "nbformat": 4,
  "nbformat_minor": 0,
  "metadata": {
    "colab": {
      "name": "clothesclassification.ipynb",
      "provenance": [],
      "authorship_tag": "ABX9TyPFml0uJ/nCkAA/hd+U0FtV",
      "include_colab_link": true
    },
    "kernelspec": {
      "name": "python3",
      "display_name": "Python 3"
    },
    "accelerator": "GPU"
  },
  "cells": [
    {
      "cell_type": "markdown",
      "metadata": {
        "id": "view-in-github",
        "colab_type": "text"
      },
      "source": [
        "<a href=\"https://colab.research.google.com/github/ankur-omar/Singlylinkedlistimplementation/blob/master/clothesclassification.ipynb\" target=\"_parent\"><img src=\"https://colab.research.google.com/assets/colab-badge.svg\" alt=\"Open In Colab\"/></a>"
      ]
    },
    {
      "cell_type": "code",
      "metadata": {
        "id": "kzB4dOAfp_Aa",
        "colab_type": "code",
        "colab": {}
      },
      "source": [
        "import tensorflow as tf\n",
        "\n",
        "import numpy as np\n",
        "#fashion_mnist = tf.keras.datasets.fashion_mnist\n",
        "from keras.datasets import fashion_mnist\n",
        "\n"
      ],
      "execution_count": 0,
      "outputs": []
    },
    {
      "cell_type": "code",
      "metadata": {
        "id": "MPzu0pPEokgZ",
        "colab_type": "code",
        "colab": {}
      },
      "source": [
        ""
      ],
      "execution_count": 0,
      "outputs": []
    },
    {
      "cell_type": "code",
      "metadata": {
        "id": "RtAPDRp-seBF",
        "colab_type": "code",
        "colab": {}
      },
      "source": [
        "(x_train,y_train),(x_test,y_test) =fashion_mnist.load_data()\n"
      ],
      "execution_count": 0,
      "outputs": []
    },
    {
      "cell_type": "code",
      "metadata": {
        "id": "b4NNg-jPtFhT",
        "colab_type": "code",
        "outputId": "96e1c2ec-392b-45fe-c216-de481ee127d2",
        "colab": {
          "base_uri": "https://localhost:8080/",
          "height": 119
        }
      },
      "source": [
        "print(\"TRAINING DATA  \", str(len(x_train)))\n",
        "print(\"labels in training data \",str(len(x_test)))\n",
        "print(\"dimensions of a single image in x_train \",str(x_train[0].shape))\n",
        "\n",
        "print(\"testing data  \", str(len(x_test)))\n",
        "print(\"labels in testing data \",str(len(y_test)))\n",
        "print(\"dimensions of a single image in y_train \",str(x_test[0].shape))"
      ],
      "execution_count": 0,
      "outputs": [
        {
          "output_type": "stream",
          "text": [
            "TRAINING DATA   60000\n",
            "labels in training data  10000\n",
            "dimensions of a single image in x_train  (28, 28)\n",
            "testing data   10000\n",
            "labels in testing data  10000\n",
            "dimensions of a single image in y_train  (28, 28)\n"
          ],
          "name": "stdout"
        }
      ]
    },
    {
      "cell_type": "code",
      "metadata": {
        "id": "OdQvoNuLvRIG",
        "colab_type": "code",
        "outputId": "a8d19468-22f9-42ff-acd3-ee9020939244",
        "colab": {
          "base_uri": "https://localhost:8080/",
          "height": 267
        }
      },
      "source": [
        "import matplotlib.pyplot as plt\n",
        "plt.subplot(231)\n",
        "random_n =np.random.randint(0,len(x_train))\n",
        "plt.imshow(x_train[random_n],cmap =plt.get_cmap('gray'))\n",
        "\n",
        "plt.subplot(232)\n",
        "random_n =np.random.randint(0,len(x_train))\n",
        "plt.imshow(x_train[random_n],cmap =plt.get_cmap('gray'))\n",
        "\n",
        "plt.subplot(233)\n",
        "random_n =np.random.randint(0,len(x_train))\n",
        "plt.imshow(x_train[random_n],cmap =plt.get_cmap('gray'))\n",
        "\n",
        "plt.subplot(234)\n",
        "random_n =np.random.randint(0,len(x_train))\n",
        "plt.imshow(x_train[random_n],cmap =plt.get_cmap('gray'))\n",
        "\n",
        "plt.subplot(235)\n",
        "random_n =np.random.randint(0,len(x_train))\n",
        "plt.imshow(x_train[random_n],cmap =plt.get_cmap('gray'))\n",
        "plt.show()\n",
        "\n"
      ],
      "execution_count": 0,
      "outputs": [
        {
          "output_type": "display_data",
          "data": {
            "image/png": "[encoded data removed]",
            "text/plain": [
              "<Figure size 432x288 with 5 Axes>"
            ]
          },
          "metadata": {
            "tags": [],
            "needs_background": "light"
          }
        }
      ]
    },
    {
      "cell_type": "code",
      "metadata": {
        "id": "tLxRIODxwm3i",
        "colab_type": "code",
        "outputId": "0a962475-3763-464a-bbfe-67352bdb50fb",
        "colab": {
          "base_uri": "https://localhost:8080/",
          "height": 68
        }
      },
      "source": [
        "from keras.utils import np_utils#it is used to convert array of labeled data to one hot encoded vector\n",
        "import keras\n",
        "from keras import Sequential\n",
        "from  keras.layers import Dense,Dropout,Flatten\n",
        "from keras.layers import Conv2D,MaxPooling2D,BatchNormalization\n",
        "import keras.backend as K\n",
        "\n",
        "\n",
        "\n",
        "batch_size =128#the number of samples that will be propagated through network\n",
        "epochs =100\n",
        "\n",
        "img_row =x_train[0].shape[0]\n",
        "img_col =x_train[1].shape[1]\n",
        "\n",
        "\n",
        "x_train =x_train.reshape(x_train.shape[0],img_row,img_col,1)\n",
        "#print(x_train)\n",
        "x_test =x_test.reshape(x_test.shape[0],img_row,img_col,1)\n",
        "#print(x_test)\n",
        "input_shape =(img_row,img_col,1)\n",
        "print(input_shape)\n",
        "\n",
        "\n",
        "x_train =x_train.astype('float32')\n",
        "x_test =x_test.astype('float32')\n",
        "x_train =x_train/255\n",
        "x_test =x_test/255\n",
        "#ONE HOT ENCODING\n",
        "y_train =np_utils.to_categorical(y_train)\n",
        "#print(y_train)\n",
        "\n",
        "\n",
        "y_test =np_utils.to_categorical(y_test)\n",
        "#print(y_test)\n",
        "\n",
        "#CALCULATE THE NUMBER OF  CLASSES AND NUMBER OF pixels\n",
        "n_classes =y_test.shape[1]\n",
        "print(\"number of classes is \" ,n_classes)\n",
        "n_pixel =x_train.shape[1]*x_train.shape[2]\n",
        "print(\"number of pixel is \",n_pixel)\n",
        "\n"
      ],
      "execution_count": 0,
      "outputs": [
        {
          "output_type": "stream",
          "text": [
            "(28, 28, 1)\n",
            "number of classes is  10\n",
            "number of pixel is  784\n"
          ],
          "name": "stdout"
        }
      ]
    },
    {
      "cell_type": "code",
      "metadata": {
        "id": "9kca-JYC9aYF",
        "colab_type": "code",
        "outputId": "b1e1c6a8-6e47-4015-e399-29b4c6c024c4",
        "colab": {
          "base_uri": "https://localhost:8080/",
          "height": 544
        }
      },
      "source": [
        "model = tf.keras.Sequential([\n",
        "    tf.keras.layers.Conv2D(32,3,activation='relu',input_shape =(28,28,1)),\n",
        "    tf.keras.layers.BatchNormalization(),\n",
        "     tf.keras.layers.Conv2D(64,3,activation='relu',input_shape =(28,28,1)),\n",
        "\n",
        "    tf.keras.layers.BatchNormalization(),\n",
        "    tf.keras.layers.MaxPooling2D(pool_size=(2, 2)),\n",
        "     tf.keras.layers.Dropout(0.25),\n",
        "    tf.keras.layers.Flatten(input_shape=input_shape),\n",
        "    tf.keras.layers.Dense(128, activation='relu'),\n",
        "    tf.keras.layers.BatchNormalization(),\n",
        "    tf.keras.layers.Dropout(0.5),\n",
        "    tf.keras.layers.Dense(n_classes, activation='softmax')\n",
        "\n",
        "])\n",
        "\n",
        "model.compile(loss = 'categorical_crossentropy',\n",
        "              optimizer = 'adam',\n",
        "              metrics = ['accuracy'])\n",
        "\n",
        "print(model.summary())"
      ],
      "execution_count": 0,
      "outputs": [
        {
          "output_type": "stream",
          "text": [
            "Model: \"sequential\"\n",
            "_________________________________________________________________\n",
            "Layer (type)                 Output Shape              Param #   \n",
            "=================================================================\n",
            "conv2d (Conv2D)              (None, 26, 26, 32)        320       \n",
            "_________________________________________________________________\n",
            "batch_normalization (BatchNo (None, 26, 26, 32)        128       \n",
            "_________________________________________________________________\n",
            "conv2d_1 (Conv2D)            (None, 24, 24, 64)        18496     \n",
            "_________________________________________________________________\n",
            "batch_normalization_1 (Batch (None, 24, 24, 64)        256       \n",
            "_________________________________________________________________\n",
            "max_pooling2d (MaxPooling2D) (None, 12, 12, 64)        0         \n",
            "_________________________________________________________________\n",
            "dropout (Dropout)            (None, 12, 12, 64)        0         \n",
            "_________________________________________________________________\n",
            "flatten (Flatten)            (None, 9216)              0         \n",
            "_________________________________________________________________\n",
            "dense (Dense)                (None, 128)               1179776   \n",
            "_________________________________________________________________\n",
            "batch_normalization_2 (Batch (None, 128)               512       \n",
            "_________________________________________________________________\n",
            "dropout_1 (Dropout)          (None, 128)               0         \n",
            "_________________________________________________________________\n",
            "dense_1 (Dense)              (None, 10)                1290      \n",
            "=================================================================\n",
            "Total params: 1,200,778\n",
            "Trainable params: 1,200,330\n",
            "Non-trainable params: 448\n",
            "_________________________________________________________________\n",
            "None\n"
          ],
          "name": "stdout"
        }
      ]
    },
    {
      "cell_type": "code",
      "metadata": {
        "id": "0uUdxMtO9qUL",
        "colab_type": "code",
        "outputId": "dace0bf2-3b4c-4b0c-e98f-eb48edb48d68",
        "colab": {
          "base_uri": "https://localhost:8080/",
          "height": 1000
        }
      },
      "source": [
        "model_fitting = model.fit(x_train, y_train,\n",
        "          batch_size=batch_size,\n",
        "          epochs=epochs,\n",
        "          verbose=2,\n",
        "          validation_data=(x_test, y_test))\n",
        "\n",
        "score = model.evaluate(x_test, y_test, verbose=0)\n",
        "print('Test loss:', score[0])\n",
        "print('Test accuracy:', score[1])"
      ],
      "execution_count": 0,
      "outputs": [
        {
          "output_type": "stream",
          "text": [
            "Epoch 1/100\n",
            "469/469 - 9s - loss: 0.4331 - accuracy: 0.8508 - val_loss: 2.8533 - val_accuracy: 0.4320\n",
            "Epoch 2/100\n",
            "469/469 - 8s - loss: 0.2758 - accuracy: 0.9027 - val_loss: 0.3129 - val_accuracy: 0.8898\n",
            "Epoch 3/100\n",
            "469/469 - 8s - loss: 0.2319 - accuracy: 0.9165 - val_loss: 0.2497 - val_accuracy: 0.9101\n",
            "Epoch 4/100\n",
            "469/469 - 8s - loss: 0.2057 - accuracy: 0.9258 - val_loss: 0.2416 - val_accuracy: 0.9107\n",
            "Epoch 5/100\n",
            "469/469 - 8s - loss: 0.1848 - accuracy: 0.9322 - val_loss: 0.2294 - val_accuracy: 0.9167\n",
            "Epoch 6/100\n",
            "469/469 - 8s - loss: 0.1702 - accuracy: 0.9380 - val_loss: 0.2256 - val_accuracy: 0.9183\n",
            "Epoch 7/100\n",
            "469/469 - 8s - loss: 0.1540 - accuracy: 0.9443 - val_loss: 0.2142 - val_accuracy: 0.9234\n",
            "Epoch 8/100\n",
            "469/469 - 8s - loss: 0.1419 - accuracy: 0.9483 - val_loss: 0.2380 - val_accuracy: 0.9168\n",
            "Epoch 9/100\n",
            "469/469 - 8s - loss: 0.1313 - accuracy: 0.9516 - val_loss: 0.2160 - val_accuracy: 0.9239\n",
            "Epoch 10/100\n",
            "469/469 - 8s - loss: 0.1207 - accuracy: 0.9555 - val_loss: 0.2214 - val_accuracy: 0.9272\n",
            "Epoch 11/100\n",
            "469/469 - 8s - loss: 0.1139 - accuracy: 0.9585 - val_loss: 0.3177 - val_accuracy: 0.8898\n",
            "Epoch 12/100\n",
            "469/469 - 8s - loss: 0.1070 - accuracy: 0.9614 - val_loss: 0.2270 - val_accuracy: 0.9257\n",
            "Epoch 13/100\n",
            "469/469 - 8s - loss: 0.0995 - accuracy: 0.9630 - val_loss: 0.2331 - val_accuracy: 0.9283\n",
            "Epoch 14/100\n",
            "469/469 - 8s - loss: 0.0912 - accuracy: 0.9663 - val_loss: 0.2337 - val_accuracy: 0.9245\n",
            "Epoch 15/100\n",
            "469/469 - 8s - loss: 0.0879 - accuracy: 0.9670 - val_loss: 0.2273 - val_accuracy: 0.9296\n",
            "Epoch 16/100\n",
            "469/469 - 8s - loss: 0.0834 - accuracy: 0.9694 - val_loss: 0.2455 - val_accuracy: 0.9296\n",
            "Epoch 17/100\n",
            "469/469 - 8s - loss: 0.0783 - accuracy: 0.9707 - val_loss: 0.2470 - val_accuracy: 0.9262\n",
            "Epoch 18/100\n",
            "469/469 - 8s - loss: 0.0749 - accuracy: 0.9726 - val_loss: 0.2443 - val_accuracy: 0.9280\n",
            "Epoch 19/100\n",
            "469/469 - 8s - loss: 0.0694 - accuracy: 0.9747 - val_loss: 0.2732 - val_accuracy: 0.9248\n",
            "Epoch 20/100\n",
            "469/469 - 8s - loss: 0.0677 - accuracy: 0.9756 - val_loss: 0.2463 - val_accuracy: 0.9290\n",
            "Epoch 21/100\n",
            "469/469 - 8s - loss: 0.0650 - accuracy: 0.9765 - val_loss: 0.3275 - val_accuracy: 0.9085\n",
            "Epoch 22/100\n",
            "469/469 - 8s - loss: 0.0623 - accuracy: 0.9774 - val_loss: 0.2891 - val_accuracy: 0.9236\n",
            "Epoch 23/100\n",
            "469/469 - 8s - loss: 0.0595 - accuracy: 0.9781 - val_loss: 0.2646 - val_accuracy: 0.9263\n",
            "Epoch 24/100\n",
            "469/469 - 8s - loss: 0.0556 - accuracy: 0.9794 - val_loss: 0.2673 - val_accuracy: 0.9289\n",
            "Epoch 25/100\n",
            "469/469 - 8s - loss: 0.0551 - accuracy: 0.9796 - val_loss: 0.2920 - val_accuracy: 0.9278\n",
            "Epoch 26/100\n",
            "469/469 - 8s - loss: 0.0505 - accuracy: 0.9818 - val_loss: 0.3025 - val_accuracy: 0.9302\n",
            "Epoch 27/100\n",
            "469/469 - 8s - loss: 0.0532 - accuracy: 0.9808 - val_loss: 0.2943 - val_accuracy: 0.9280\n",
            "Epoch 28/100\n",
            "469/469 - 8s - loss: 0.0510 - accuracy: 0.9812 - val_loss: 0.2762 - val_accuracy: 0.9312\n",
            "Epoch 29/100\n",
            "469/469 - 8s - loss: 0.0505 - accuracy: 0.9816 - val_loss: 0.2733 - val_accuracy: 0.9308\n",
            "Epoch 30/100\n",
            "469/469 - 8s - loss: 0.0489 - accuracy: 0.9822 - val_loss: 0.2793 - val_accuracy: 0.9271\n",
            "Epoch 31/100\n",
            "469/469 - 9s - loss: 0.0447 - accuracy: 0.9836 - val_loss: 0.3067 - val_accuracy: 0.9157\n",
            "Epoch 32/100\n",
            "469/469 - 8s - loss: 0.0449 - accuracy: 0.9837 - val_loss: 0.2902 - val_accuracy: 0.9254\n",
            "Epoch 33/100\n",
            "469/469 - 8s - loss: 0.0436 - accuracy: 0.9837 - val_loss: 0.2897 - val_accuracy: 0.9291\n",
            "Epoch 34/100\n",
            "469/469 - 8s - loss: 0.0445 - accuracy: 0.9838 - val_loss: 0.2876 - val_accuracy: 0.9298\n",
            "Epoch 35/100\n",
            "469/469 - 8s - loss: 0.0406 - accuracy: 0.9854 - val_loss: 0.3028 - val_accuracy: 0.9316\n",
            "Epoch 36/100\n",
            "469/469 - 8s - loss: 0.0400 - accuracy: 0.9858 - val_loss: 0.2864 - val_accuracy: 0.9307\n",
            "Epoch 37/100\n",
            "469/469 - 8s - loss: 0.0413 - accuracy: 0.9851 - val_loss: 0.2968 - val_accuracy: 0.9303\n",
            "Epoch 38/100\n",
            "469/469 - 8s - loss: 0.0408 - accuracy: 0.9851 - val_loss: 0.3135 - val_accuracy: 0.9284\n",
            "Epoch 39/100\n",
            "469/469 - 8s - loss: 0.0395 - accuracy: 0.9855 - val_loss: 0.3364 - val_accuracy: 0.9255\n",
            "Epoch 40/100\n",
            "469/469 - 8s - loss: 0.0404 - accuracy: 0.9852 - val_loss: 0.3538 - val_accuracy: 0.9220\n",
            "Epoch 41/100\n",
            "469/469 - 8s - loss: 0.0355 - accuracy: 0.9866 - val_loss: 0.2996 - val_accuracy: 0.9294\n",
            "Epoch 42/100\n",
            "469/469 - 8s - loss: 0.0345 - accuracy: 0.9874 - val_loss: 0.2990 - val_accuracy: 0.9258\n",
            "Epoch 43/100\n",
            "469/469 - 8s - loss: 0.0362 - accuracy: 0.9869 - val_loss: 0.3471 - val_accuracy: 0.9222\n",
            "Epoch 44/100\n",
            "469/469 - 8s - loss: 0.0350 - accuracy: 0.9869 - val_loss: 0.3104 - val_accuracy: 0.9248\n",
            "Epoch 45/100\n",
            "469/469 - 8s - loss: 0.0361 - accuracy: 0.9875 - val_loss: 0.3216 - val_accuracy: 0.9309\n",
            "Epoch 46/100\n",
            "469/469 - 8s - loss: 0.0336 - accuracy: 0.9878 - val_loss: 0.3217 - val_accuracy: 0.9292\n",
            "Epoch 47/100\n",
            "469/469 - 8s - loss: 0.0339 - accuracy: 0.9872 - val_loss: 0.3508 - val_accuracy: 0.9124\n",
            "Epoch 48/100\n",
            "469/469 - 8s - loss: 0.0340 - accuracy: 0.9876 - val_loss: 0.3187 - val_accuracy: 0.9306\n",
            "Epoch 49/100\n",
            "469/469 - 8s - loss: 0.0325 - accuracy: 0.9885 - val_loss: 0.3407 - val_accuracy: 0.9307\n",
            "Epoch 50/100\n",
            "469/469 - 8s - loss: 0.0309 - accuracy: 0.9890 - val_loss: 0.3358 - val_accuracy: 0.9325\n",
            "Epoch 51/100\n",
            "469/469 - 8s - loss: 0.0302 - accuracy: 0.9887 - val_loss: 0.3074 - val_accuracy: 0.9312\n",
            "Epoch 52/100\n",
            "469/469 - 8s - loss: 0.0305 - accuracy: 0.9888 - val_loss: 0.3543 - val_accuracy: 0.9316\n",
            "Epoch 53/100\n",
            "469/469 - 8s - loss: 0.0299 - accuracy: 0.9890 - val_loss: 0.3529 - val_accuracy: 0.9306\n",
            "Epoch 54/100\n",
            "469/469 - 8s - loss: 0.0291 - accuracy: 0.9895 - val_loss: 0.3785 - val_accuracy: 0.9291\n",
            "Epoch 55/100\n",
            "469/469 - 8s - loss: 0.0305 - accuracy: 0.9888 - val_loss: 0.3596 - val_accuracy: 0.9306\n",
            "Epoch 56/100\n",
            "469/469 - 8s - loss: 0.0305 - accuracy: 0.9891 - val_loss: 0.3088 - val_accuracy: 0.9313\n",
            "Epoch 57/100\n",
            "469/469 - 8s - loss: 0.0295 - accuracy: 0.9894 - val_loss: 0.3753 - val_accuracy: 0.9310\n",
            "Epoch 58/100\n",
            "469/469 - 8s - loss: 0.0263 - accuracy: 0.9906 - val_loss: 0.3043 - val_accuracy: 0.9303\n",
            "Epoch 59/100\n",
            "469/469 - 8s - loss: 0.0283 - accuracy: 0.9900 - val_loss: 0.3523 - val_accuracy: 0.9301\n",
            "Epoch 60/100\n",
            "469/469 - 8s - loss: 0.0275 - accuracy: 0.9901 - val_loss: 0.4003 - val_accuracy: 0.9291\n",
            "Epoch 61/100\n",
            "469/469 - 8s - loss: 0.0269 - accuracy: 0.9905 - val_loss: 0.3446 - val_accuracy: 0.9327\n",
            "Epoch 62/100\n",
            "469/469 - 8s - loss: 0.0267 - accuracy: 0.9904 - val_loss: 0.3173 - val_accuracy: 0.9301\n",
            "Epoch 63/100\n",
            "469/469 - 8s - loss: 0.0257 - accuracy: 0.9909 - val_loss: 0.3593 - val_accuracy: 0.9326\n",
            "Epoch 64/100\n",
            "469/469 - 8s - loss: 0.0260 - accuracy: 0.9906 - val_loss: 0.3642 - val_accuracy: 0.9284\n",
            "Epoch 65/100\n",
            "469/469 - 8s - loss: 0.0273 - accuracy: 0.9904 - val_loss: 0.3405 - val_accuracy: 0.9316\n",
            "Epoch 66/100\n",
            "469/469 - 8s - loss: 0.0254 - accuracy: 0.9911 - val_loss: 0.3399 - val_accuracy: 0.9333\n",
            "Epoch 67/100\n",
            "469/469 - 8s - loss: 0.0238 - accuracy: 0.9912 - val_loss: 0.3821 - val_accuracy: 0.9291\n",
            "Epoch 68/100\n",
            "469/469 - 8s - loss: 0.0280 - accuracy: 0.9896 - val_loss: 0.3865 - val_accuracy: 0.9315\n",
            "Epoch 69/100\n",
            "469/469 - 9s - loss: 0.0254 - accuracy: 0.9913 - val_loss: 0.3500 - val_accuracy: 0.9289\n",
            "Epoch 70/100\n",
            "469/469 - 9s - loss: 0.0233 - accuracy: 0.9913 - val_loss: 0.3391 - val_accuracy: 0.9294\n",
            "Epoch 71/100\n",
            "469/469 - 9s - loss: 0.0264 - accuracy: 0.9908 - val_loss: 0.3390 - val_accuracy: 0.9252\n",
            "Epoch 72/100\n",
            "469/469 - 8s - loss: 0.0257 - accuracy: 0.9910 - val_loss: 0.3278 - val_accuracy: 0.9328\n",
            "Epoch 73/100\n",
            "469/469 - 8s - loss: 0.0253 - accuracy: 0.9909 - val_loss: 0.3953 - val_accuracy: 0.9299\n",
            "Epoch 74/100\n",
            "469/469 - 8s - loss: 0.0234 - accuracy: 0.9914 - val_loss: 0.3510 - val_accuracy: 0.9287\n",
            "Epoch 75/100\n",
            "469/469 - 8s - loss: 0.0237 - accuracy: 0.9917 - val_loss: 0.3429 - val_accuracy: 0.9301\n",
            "Epoch 76/100\n",
            "469/469 - 8s - loss: 0.0224 - accuracy: 0.9918 - val_loss: 0.4111 - val_accuracy: 0.9307\n",
            "Epoch 77/100\n",
            "469/469 - 8s - loss: 0.0229 - accuracy: 0.9921 - val_loss: 0.3661 - val_accuracy: 0.9319\n",
            "Epoch 78/100\n",
            "469/469 - 9s - loss: 0.0216 - accuracy: 0.9926 - val_loss: 0.3947 - val_accuracy: 0.9277\n",
            "Epoch 79/100\n",
            "469/469 - 8s - loss: 0.0244 - accuracy: 0.9914 - val_loss: 0.4143 - val_accuracy: 0.9323\n",
            "Epoch 80/100\n",
            "469/469 - 8s - loss: 0.0226 - accuracy: 0.9918 - val_loss: 0.3408 - val_accuracy: 0.9315\n",
            "Epoch 81/100\n",
            "469/469 - 8s - loss: 0.0232 - accuracy: 0.9918 - val_loss: 0.3876 - val_accuracy: 0.9311\n",
            "Epoch 82/100\n",
            "469/469 - 8s - loss: 0.0212 - accuracy: 0.9925 - val_loss: 0.3424 - val_accuracy: 0.9341\n",
            "Epoch 83/100\n",
            "469/469 - 8s - loss: 0.0239 - accuracy: 0.9913 - val_loss: 0.3744 - val_accuracy: 0.9323\n",
            "Epoch 84/100\n",
            "469/469 - 8s - loss: 0.0221 - accuracy: 0.9923 - val_loss: 0.4109 - val_accuracy: 0.9316\n",
            "Epoch 85/100\n",
            "469/469 - 8s - loss: 0.0206 - accuracy: 0.9924 - val_loss: 0.3594 - val_accuracy: 0.9290\n",
            "Epoch 86/100\n",
            "469/469 - 8s - loss: 0.0218 - accuracy: 0.9918 - val_loss: 0.3672 - val_accuracy: 0.9328\n",
            "Epoch 87/100\n",
            "469/469 - 8s - loss: 0.0222 - accuracy: 0.9923 - val_loss: 0.3812 - val_accuracy: 0.9310\n",
            "Epoch 88/100\n",
            "469/469 - 8s - loss: 0.0192 - accuracy: 0.9929 - val_loss: 0.3861 - val_accuracy: 0.9305\n",
            "Epoch 89/100\n",
            "469/469 - 8s - loss: 0.0202 - accuracy: 0.9926 - val_loss: 0.4049 - val_accuracy: 0.9317\n",
            "Epoch 90/100\n",
            "469/469 - 8s - loss: 0.0195 - accuracy: 0.9932 - val_loss: 0.3805 - val_accuracy: 0.9314\n",
            "Epoch 91/100\n",
            "469/469 - 8s - loss: 0.0193 - accuracy: 0.9929 - val_loss: 0.3793 - val_accuracy: 0.9320\n",
            "Epoch 92/100\n",
            "469/469 - 8s - loss: 0.0186 - accuracy: 0.9930 - val_loss: 0.3914 - val_accuracy: 0.9317\n",
            "Epoch 93/100\n",
            "469/469 - 8s - loss: 0.0207 - accuracy: 0.9928 - val_loss: 0.4192 - val_accuracy: 0.9292\n",
            "Epoch 94/100\n",
            "469/469 - 8s - loss: 0.0206 - accuracy: 0.9925 - val_loss: 0.4045 - val_accuracy: 0.9326\n",
            "Epoch 95/100\n",
            "469/469 - 8s - loss: 0.0200 - accuracy: 0.9925 - val_loss: 0.3486 - val_accuracy: 0.9345\n",
            "Epoch 96/100\n",
            "469/469 - 8s - loss: 0.0180 - accuracy: 0.9937 - val_loss: 0.3673 - val_accuracy: 0.9314\n",
            "Epoch 97/100\n",
            "469/469 - 8s - loss: 0.0197 - accuracy: 0.9927 - val_loss: 0.3443 - val_accuracy: 0.9305\n",
            "Epoch 98/100\n",
            "469/469 - 8s - loss: 0.0220 - accuracy: 0.9922 - val_loss: 0.3494 - val_accuracy: 0.9330\n",
            "Epoch 99/100\n",
            "469/469 - 8s - loss: 0.0203 - accuracy: 0.9927 - val_loss: 0.3767 - val_accuracy: 0.9283\n",
            "Epoch 100/100\n",
            "469/469 - 8s - loss: 0.0190 - accuracy: 0.9930 - val_loss: 0.4112 - val_accuracy: 0.9315\n",
            "Test loss: 0.41499167680740356\n",
            "Test accuracy: 0.9315000176429749\n"
          ],
          "name": "stdout"
        }
      ]
    },
    {
      "cell_type": "code",
      "metadata": {
        "id": "gjgvueaQVOes",
        "colab_type": "code",
        "outputId": "14d63545-9a15-4513-e33d-3d77597e05e2",
        "colab": {
          "base_uri": "https://localhost:8080/",
          "height": 224
        }
      },
      "source": [
        "!apt-get install -y -qq software-properties-common python-software-properties module-init-tools\n",
        "!add-apt-repository -y ppa:alessandro-strada/ppa 2>&1 > /dev/null\n",
        "!apt-get update -qq 2>&1 > /dev/null\n",
        "!apt-get -y install -qq google-drive-ocamlfuse fuse\n",
        "from google.colab import auth\n",
        "auth.authenticate_user()\n",
        "from oauth2client.client import GoogleCredentials\n",
        "creds = GoogleCredentials.get_application_default()\n",
        "import getpass\n",
        "!google-drive-ocamlfuse -headless -id={creds.client_id} -secret={creds.client_secret} < /dev/null 2>&1 | grep URL\n",
        "vcode = getpass.getpass()\n",
        "!echo {vcode} | google-drive-ocamlfuse -headless -id={creds.client_id} -secret={creds.client_secret}"
      ],
      "execution_count": 0,
      "outputs": [
        {
          "output_type": "stream",
          "text": [
            "E: Package 'python-software-properties' has no installation candidate\n",
            "Selecting previously unselected package google-drive-ocamlfuse.\n",
            "(Reading database ... 144568 files and directories currently installed.)\n",
            "Preparing to unpack .../google-drive-ocamlfuse_0.7.19-0ubuntu1~ubuntu18.04.1_amd64.deb ...\n",
            "Unpacking google-drive-ocamlfuse (0.7.19-0ubuntu1~ubuntu18.04.1) ...\n",
            "Setting up google-drive-ocamlfuse (0.7.19-0ubuntu1~ubuntu18.04.1) ...\n",
            "Processing triggers for man-db (2.8.3-2ubuntu0.1) ...\n",
            "Please, open the following URL in a web browser: https://accounts.google.com/o/oauth2/auth?client_id=32555940559.apps.googleusercontent.com&redirect_uri=urn%3Aietf%3Awg%3Aoauth%3A2.0%3Aoob&scope=https%3A%2F%2Fwww.googleapis.com%2Fauth%2Fdrive&response_type=code&access_type=offline&approval_prompt=force\n",
            "··········\n",
            "Please, open the following URL in a web browser: https://accounts.google.com/o/oauth2/auth?client_id=32555940559.apps.googleusercontent.com&redirect_uri=urn%3Aietf%3Awg%3Aoauth%3A2.0%3Aoob&scope=https%3A%2F%2Fwww.googleapis.com%2Fauth%2Fdrive&response_type=code&access_type=offline&approval_prompt=force\n",
            "Please enter the verification code: Access token retrieved correctly.\n"
          ],
          "name": "stdout"
        }
      ]
    },
    {
      "cell_type": "code",
      "metadata": {
        "id": "B7cP4JghV_b9",
        "colab_type": "code",
        "outputId": "8d14ea03-5e2f-4ad7-f6ce-f3a9970adcfc",
        "colab": {
          "base_uri": "https://localhost:8080/",
          "height": 122
        }
      },
      "source": [
        "from google.colab import drive\n",
        "drive.mount('/content/drive')"
      ],
      "execution_count": 0,
      "outputs": [
        {
          "output_type": "stream",
          "text": [
            "Go to this URL in a browser: https://accounts.google.com/o/oauth2/auth?client_id=947318989803-6bn6qk8qdgf4n4g3pfee6491hc0brc4i.apps.googleusercontent.com&redirect_uri=urn%3aietf%3awg%3aoauth%3a2.0%3aoob&response_type=code&scope=email%20https%3a%2f%2fwww.googleapis.com%2fauth%2fdocs.test%20https%3a%2f%2fwww.googleapis.com%2fauth%2fdrive%20https%3a%2f%2fwww.googleapis.com%2fauth%2fdrive.photos.readonly%20https%3a%2f%2fwww.googleapis.com%2fauth%2fpeopleapi.readonly\n",
            "\n",
            "Enter your authorization code:\n",
            "··········\n",
            "Mounted at /content/drive\n"
          ],
          "name": "stdout"
        }
      ]
    },
    {
      "cell_type": "code",
      "metadata": {
        "id": "AIlxlxF2WhV9",
        "colab_type": "code",
        "colab": {}
      },
      "source": [
        "import os\n",
        "os.chdir(\"/content/drive/My Drive/clothing_project\")"
      ],
      "execution_count": 0,
      "outputs": []
    },
    {
      "cell_type": "code",
      "metadata": {
        "id": "jkEWaIWebPlv",
        "colab_type": "code",
        "colab": {}
      },
      "source": [
        "model.save(\"clothes_classification.h5\")"
      ],
      "execution_count": 0,
      "outputs": []
    },
    {
      "cell_type": "code",
      "metadata": {
        "id": "oAbT_UriblnN",
        "colab_type": "code",
        "outputId": "9e7cbd58-aab8-4eeb-a230-9ba3822d95a8",
        "colab": {
          "base_uri": "https://localhost:8080/",
          "height": 85
        }
      },
      "source": [
        "from keras.preprocessing.image import load_img\n",
        "from keras.preprocessing.image import img_to_array\n",
        "#from keras.models import load_model\n",
        "import tensorflow as tf\n",
        "\n",
        "\n",
        "def load_image(filename):\n",
        "    img =load_img(filename,grayscale =True,target_size =(28,28))\n",
        "    img =img_to_array(img)\n",
        "    img =img.reshape(1,28,28,1)\n",
        "    img =img.astype('float32')\n",
        "    img =img/255.0\n",
        "    return img\n",
        "img = load_image('ankel boot.jpg')\n",
        "model = tf.keras.models.load_model('clothes_classification.h5')\n",
        "class_prediction = model.predict_classes(img)\n",
        "print(class_prediction[0])\n",
        "\n",
        "if class_prediction[0]==0:\n",
        "            product =\"T-shirt/top\"\n",
        "elif class_prediction[0]==1:\n",
        "          product =\"Trouser\"\n",
        "elif class_prediction[0]==2:\n",
        "           product =\"Pullover\"\n",
        "elif class_prediction[0]==3:\n",
        "         product =\"Dress\"\n",
        "elif class_prediction[0]==4:\n",
        "          product =\"Coat\"\n",
        "elif class_prediction[0]==5:\n",
        "      product =\"Sandal\"\n",
        "elif class_prediction[0]==6:\n",
        "          product =\"Shirt\"\n",
        "elif class_prediction[0]==7:\n",
        "          product =\"Sneaker\"\n",
        "elif class_prediction[0]==8:\n",
        "          product =\"Bag\"\n",
        "else:\n",
        "  product=\"Ankel boot\"\n",
        "\n",
        "print(product)\n"
      ],
      "execution_count": 0,
      "outputs": [
        {
          "output_type": "stream",
          "text": [
            "/usr/local/lib/python3.6/dist-packages/keras_preprocessing/image/utils.py:104: UserWarning: grayscale is deprecated. Please use color_mode = \"grayscale\"\n",
            "  warnings.warn('grayscale is deprecated. Please use '\n"
          ],
          "name": "stderr"
        },
        {
          "output_type": "stream",
          "text": [
            "4\n",
            "Coat\n"
          ],
          "name": "stdout"
        }
      ]
    }
  ]
}